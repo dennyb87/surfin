{
 "cells": [
  {
   "cell_type": "code",
   "execution_count": 1,
   "metadata": {},
   "outputs": [
    {
     "data": {
      "text/html": [
       "<div>\n",
       "<style scoped>\n",
       "    .dataframe tbody tr th:only-of-type {\n",
       "        vertical-align: middle;\n",
       "    }\n",
       "\n",
       "    .dataframe tbody tr th {\n",
       "        vertical-align: top;\n",
       "    }\n",
       "\n",
       "    .dataframe thead th {\n",
       "        text-align: right;\n",
       "    }\n",
       "</style>\n",
       "<table border=\"1\" class=\"dataframe\">\n",
       "  <thead>\n",
       "    <tr style=\"text-align: right;\">\n",
       "      <th></th>\n",
       "      <th>id</th>\n",
       "      <th>created</th>\n",
       "      <th>wave_size_score</th>\n",
       "      <th>wind_direction</th>\n",
       "      <th>wind_speed</th>\n",
       "      <th>wave_height</th>\n",
       "      <th>period</th>\n",
       "      <th>direction</th>\n",
       "    </tr>\n",
       "  </thead>\n",
       "  <tbody>\n",
       "    <tr>\n",
       "      <th>0</th>\n",
       "      <td>4</td>\n",
       "      <td>2025-01-08 23:18:06.666166+00:00</td>\n",
       "      <td>3.7000</td>\n",
       "      <td>143.0000</td>\n",
       "      <td>8.0000</td>\n",
       "      <td>132.544</td>\n",
       "      <td>5.32545</td>\n",
       "      <td>170.41428</td>\n",
       "    </tr>\n",
       "  </tbody>\n",
       "</table>\n",
       "</div>"
      ],
      "text/plain": [
       "   id                          created wave_size_score wind_direction  \\\n",
       "0   4 2025-01-08 23:18:06.666166+00:00          3.7000       143.0000   \n",
       "\n",
       "  wind_speed  wave_height   period  direction  \n",
       "0     8.0000      132.544  5.32545  170.41428  "
      ]
     },
     "execution_count": 1,
     "metadata": {},
     "output_type": "execute_result"
    }
   ],
   "source": [
    "import pandas as pd\n",
    "\n",
    "from spots.analytics.domain import SpotSnapshotTimeserieV1\n",
    "from spots.models import Spot\n",
    "\n",
    "\n",
    "spot = Spot.objects.get(name=\"Pontile Marina di Pietrasanta\")\n",
    "timeserie = SpotSnapshotTimeserieV1.build_for_spot(spot)\n",
    "\n",
    "df = pd.DataFrame(snapshot.to_dict() for snapshot in timeserie)\n",
    "df\n"
   ]
  },
  {
   "cell_type": "code",
   "execution_count": null,
   "metadata": {},
   "outputs": [],
   "source": []
  }
 ],
 "metadata": {
  "kernelspec": {
   "display_name": "Django Shell-Plus",
   "language": "python",
   "name": "django_extensions"
  },
  "language_info": {
   "codemirror_mode": {
    "name": "ipython",
    "version": 3
   },
   "file_extension": ".py",
   "mimetype": "text/x-python",
   "name": "python",
   "nbconvert_exporter": "python",
   "pygments_lexer": "ipython3",
   "version": "3.9.5"
  }
 },
 "nbformat": 4,
 "nbformat_minor": 2
}
